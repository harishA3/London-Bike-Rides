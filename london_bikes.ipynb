{
 "cells": [
  {
   "cell_type": "code",
   "execution_count": 6,
   "metadata": {},
   "outputs": [
    {
     "name": "stdout",
     "output_type": "stream",
     "text": [
      "Collecting pandas\n",
      "  Downloading pandas-2.0.3-cp311-cp311-win_amd64.whl (10.6 MB)\n",
      "                                              0.0/10.6 MB ? eta -:--:--\n",
      "                                              0.0/10.6 MB 1.4 MB/s eta 0:00:08\n",
      "                                             0.1/10.6 MB 656.4 kB/s eta 0:00:17\n",
      "                                              0.1/10.6 MB 1.0 MB/s eta 0:00:11\n",
      "                                              0.2/10.6 MB 1.1 MB/s eta 0:00:10\n",
      "     -                                        0.3/10.6 MB 1.5 MB/s eta 0:00:08\n",
      "     -                                        0.4/10.6 MB 1.4 MB/s eta 0:00:08\n",
      "     -                                        0.5/10.6 MB 1.6 MB/s eta 0:00:07\n",
      "     -                                        0.5/10.6 MB 1.6 MB/s eta 0:00:07\n",
      "     --                                       0.6/10.6 MB 1.4 MB/s eta 0:00:08\n",
      "     --                                       0.6/10.6 MB 1.3 MB/s eta 0:00:08\n",
      "     --                                       0.7/10.6 MB 1.4 MB/s eta 0:00:07\n",
      "     ---                                      0.8/10.6 MB 1.5 MB/s eta 0:00:07\n",
      "     ---                                      0.9/10.6 MB 1.5 MB/s eta 0:00:07\n",
      "     ---                                      1.0/10.6 MB 1.6 MB/s eta 0:00:07\n",
      "     ---                                      1.0/10.6 MB 1.5 MB/s eta 0:00:07\n",
      "     ----                                     1.2/10.6 MB 1.6 MB/s eta 0:00:06\n",
      "     ----                                     1.3/10.6 MB 1.6 MB/s eta 0:00:06\n",
      "     -----                                    1.4/10.6 MB 1.7 MB/s eta 0:00:06\n",
      "     -----                                    1.5/10.6 MB 1.7 MB/s eta 0:00:06\n",
      "     -----                                    1.5/10.6 MB 1.7 MB/s eta 0:00:06\n",
      "     ------                                   1.7/10.6 MB 1.8 MB/s eta 0:00:05\n",
      "     ------                                   1.7/10.6 MB 1.8 MB/s eta 0:00:05\n",
      "     ------                                   1.7/10.6 MB 1.6 MB/s eta 0:00:06\n",
      "     ------                                   1.7/10.6 MB 1.6 MB/s eta 0:00:06\n",
      "     -------                                  1.9/10.6 MB 1.7 MB/s eta 0:00:06\n",
      "     -------                                  2.0/10.6 MB 1.7 MB/s eta 0:00:06\n",
      "     --------                                 2.2/10.6 MB 1.8 MB/s eta 0:00:05\n",
      "     --------                                 2.3/10.6 MB 1.8 MB/s eta 0:00:05\n",
      "     ---------                                2.5/10.6 MB 1.8 MB/s eta 0:00:05\n",
      "     ---------                                2.6/10.6 MB 1.9 MB/s eta 0:00:05\n",
      "     ----------                               2.7/10.6 MB 1.9 MB/s eta 0:00:05\n",
      "     -----------                              3.0/10.6 MB 2.0 MB/s eta 0:00:04\n",
      "     -----------                              3.1/10.6 MB 2.1 MB/s eta 0:00:04\n",
      "     ------------                             3.4/10.6 MB 2.2 MB/s eta 0:00:04\n",
      "     --------------                           3.7/10.6 MB 2.3 MB/s eta 0:00:03\n",
      "     --------------                           3.9/10.6 MB 2.4 MB/s eta 0:00:03\n",
      "     ---------------                          4.2/10.6 MB 2.5 MB/s eta 0:00:03\n",
      "     -----------------                        4.6/10.6 MB 2.6 MB/s eta 0:00:03\n",
      "     ------------------                       4.8/10.6 MB 2.7 MB/s eta 0:00:03\n",
      "     -------------------                      5.1/10.6 MB 2.8 MB/s eta 0:00:03\n",
      "     --------------------                     5.4/10.6 MB 2.9 MB/s eta 0:00:02\n",
      "     ---------------------                    5.6/10.6 MB 2.9 MB/s eta 0:00:02\n",
      "     ----------------------                   5.9/10.6 MB 3.0 MB/s eta 0:00:02\n",
      "     -----------------------                  6.2/10.6 MB 3.0 MB/s eta 0:00:02\n",
      "     ------------------------                 6.4/10.6 MB 3.1 MB/s eta 0:00:02\n",
      "     -------------------------                6.7/10.6 MB 3.2 MB/s eta 0:00:02\n",
      "     --------------------------               6.9/10.6 MB 3.2 MB/s eta 0:00:02\n",
      "     --------------------------               7.0/10.6 MB 3.2 MB/s eta 0:00:02\n",
      "     --------------------------               7.1/10.6 MB 3.1 MB/s eta 0:00:02\n",
      "     ---------------------------              7.4/10.6 MB 3.2 MB/s eta 0:00:02\n",
      "     ----------------------------             7.5/10.6 MB 3.2 MB/s eta 0:00:01\n",
      "     -----------------------------            7.7/10.6 MB 3.2 MB/s eta 0:00:01\n",
      "     ------------------------------           8.0/10.6 MB 3.3 MB/s eta 0:00:01\n",
      "     -------------------------------          8.3/10.6 MB 3.3 MB/s eta 0:00:01\n",
      "     --------------------------------         8.6/10.6 MB 3.4 MB/s eta 0:00:01\n",
      "     ---------------------------------        8.9/10.6 MB 3.4 MB/s eta 0:00:01\n",
      "     ----------------------------------       9.2/10.6 MB 3.5 MB/s eta 0:00:01\n",
      "     -----------------------------------      9.3/10.6 MB 3.5 MB/s eta 0:00:01\n",
      "     ------------------------------------     9.6/10.6 MB 3.5 MB/s eta 0:00:01\n",
      "     ------------------------------------     9.7/10.6 MB 3.5 MB/s eta 0:00:01\n",
      "     -------------------------------------    9.9/10.6 MB 3.5 MB/s eta 0:00:01\n",
      "     --------------------------------------   10.3/10.6 MB 3.7 MB/s eta 0:00:01\n",
      "     ---------------------------------------  10.6/10.6 MB 3.9 MB/s eta 0:00:01\n",
      "     ---------------------------------------  10.6/10.6 MB 3.9 MB/s eta 0:00:01\n",
      "     ---------------------------------------- 10.6/10.6 MB 3.7 MB/s eta 0:00:00\n",
      "Requirement already satisfied: python-dateutil>=2.8.2 in c:\\users\\lenovo\\appdata\\local\\packages\\pythonsoftwarefoundation.python.3.11_qbz5n2kfra8p0\\localcache\\local-packages\\python311\\site-packages (from pandas) (2.8.2)\n",
      "Collecting pytz>=2020.1 (from pandas)\n",
      "  Downloading pytz-2023.3-py2.py3-none-any.whl (502 kB)\n",
      "                                              0.0/502.3 kB ? eta -:--:--\n",
      "     --------                               112.6/502.3 kB 3.3 MB/s eta 0:00:01\n",
      "     -------------------------------------  501.8/502.3 kB 7.9 MB/s eta 0:00:01\n",
      "     -------------------------------------- 502.3/502.3 kB 4.5 MB/s eta 0:00:00\n",
      "Collecting tzdata>=2022.1 (from pandas)\n",
      "  Downloading tzdata-2023.3-py2.py3-none-any.whl (341 kB)\n",
      "                                              0.0/341.8 kB ? eta -:--:--\n",
      "     ------------------------------------  337.9/341.8 kB 10.6 MB/s eta 0:00:01\n",
      "     -------------------------------------- 341.8/341.8 kB 4.3 MB/s eta 0:00:00\n",
      "Collecting numpy>=1.21.0 (from pandas)\n",
      "  Downloading numpy-1.25.2-cp311-cp311-win_amd64.whl (15.5 MB)\n",
      "                                              0.0/15.5 MB ? eta -:--:--\n",
      "                                              0.3/15.5 MB 10.6 MB/s eta 0:00:02\n",
      "     -                                        0.5/15.5 MB 5.9 MB/s eta 0:00:03\n",
      "     -                                        0.6/15.5 MB 5.1 MB/s eta 0:00:03\n",
      "     --                                       1.0/15.5 MB 5.8 MB/s eta 0:00:03\n",
      "     ---                                      1.3/15.5 MB 5.8 MB/s eta 0:00:03\n",
      "     ----                                     1.7/15.5 MB 6.4 MB/s eta 0:00:03\n",
      "     ----                                     1.8/15.5 MB 5.8 MB/s eta 0:00:03\n",
      "     -----                                    1.9/15.5 MB 5.6 MB/s eta 0:00:03\n",
      "     -----                                    2.3/15.5 MB 5.6 MB/s eta 0:00:03\n",
      "     ------                                   2.5/15.5 MB 5.6 MB/s eta 0:00:03\n",
      "     -------                                  2.8/15.5 MB 5.6 MB/s eta 0:00:03\n",
      "     --------                                 3.2/15.5 MB 5.8 MB/s eta 0:00:03\n",
      "     ---------                                3.5/15.5 MB 5.9 MB/s eta 0:00:03\n",
      "     ----------                               4.0/15.5 MB 6.2 MB/s eta 0:00:02\n",
      "     ----------                               4.2/15.5 MB 6.2 MB/s eta 0:00:02\n",
      "     -----------                              4.5/15.5 MB 6.3 MB/s eta 0:00:02\n",
      "     ------------                             4.7/15.5 MB 6.1 MB/s eta 0:00:02\n",
      "     ------------                             4.8/15.5 MB 5.9 MB/s eta 0:00:02\n",
      "     ------------                             5.0/15.5 MB 5.9 MB/s eta 0:00:02\n",
      "     -------------                            5.3/15.5 MB 6.0 MB/s eta 0:00:02\n",
      "     --------------                           5.6/15.5 MB 5.9 MB/s eta 0:00:02\n",
      "     ---------------                          5.8/15.5 MB 5.8 MB/s eta 0:00:02\n",
      "     ---------------                          6.0/15.5 MB 5.7 MB/s eta 0:00:02\n",
      "     ----------------                         6.4/15.5 MB 5.9 MB/s eta 0:00:02\n",
      "     -----------------                        6.6/15.5 MB 5.8 MB/s eta 0:00:02\n",
      "     ------------------                       7.1/15.5 MB 6.0 MB/s eta 0:00:02\n",
      "     -------------------                      7.6/15.5 MB 6.2 MB/s eta 0:00:02\n",
      "     --------------------                     8.0/15.5 MB 6.2 MB/s eta 0:00:02\n",
      "     ---------------------                    8.4/15.5 MB 6.3 MB/s eta 0:00:02\n",
      "     ----------------------                   8.9/15.5 MB 6.5 MB/s eta 0:00:02\n",
      "     -----------------------                  9.3/15.5 MB 6.5 MB/s eta 0:00:01\n",
      "     ------------------------                 9.4/15.5 MB 6.4 MB/s eta 0:00:01\n",
      "     -------------------------                10.1/15.5 MB 6.6 MB/s eta 0:00:01\n",
      "     ---------------------------              10.6/15.5 MB 6.8 MB/s eta 0:00:01\n",
      "     ----------------------------             11.0/15.5 MB 7.0 MB/s eta 0:00:01\n",
      "     -----------------------------            11.6/15.5 MB 7.2 MB/s eta 0:00:01\n",
      "     -------------------------------          12.1/15.5 MB 7.4 MB/s eta 0:00:01\n",
      "     -------------------------------          12.2/15.5 MB 7.4 MB/s eta 0:00:01\n",
      "     --------------------------------         12.8/15.5 MB 7.6 MB/s eta 0:00:01\n",
      "     ----------------------------------       13.4/15.5 MB 7.9 MB/s eta 0:00:01\n",
      "     -----------------------------------      13.9/15.5 MB 7.9 MB/s eta 0:00:01\n",
      "     -------------------------------------    14.5/15.5 MB 8.2 MB/s eta 0:00:01\n",
      "     --------------------------------------   15.1/15.5 MB 9.0 MB/s eta 0:00:01\n",
      "     ---------------------------------------  15.5/15.5 MB 9.0 MB/s eta 0:00:01\n",
      "     ---------------------------------------  15.5/15.5 MB 8.8 MB/s eta 0:00:01\n",
      "     ---------------------------------------- 15.5/15.5 MB 7.5 MB/s eta 0:00:00\n",
      "Requirement already satisfied: six>=1.5 in c:\\users\\lenovo\\appdata\\local\\packages\\pythonsoftwarefoundation.python.3.11_qbz5n2kfra8p0\\localcache\\local-packages\\python311\\site-packages (from python-dateutil>=2.8.2->pandas) (1.16.0)\n",
      "Installing collected packages: pytz, tzdata, numpy, pandas\n",
      "Successfully installed numpy-1.25.2 pandas-2.0.3 pytz-2023.3 tzdata-2023.3\n"
     ]
    },
    {
     "name": "stderr",
     "output_type": "stream",
     "text": [
      "\n",
      "[notice] A new release of pip is available: 23.1.2 -> 23.2.1\n",
      "[notice] To update, run: C:\\Users\\lenovo\\AppData\\Local\\Microsoft\\WindowsApps\\PythonSoftwareFoundation.Python.3.11_qbz5n2kfra8p0\\python.exe -m pip install --upgrade pip\n",
      "ERROR: Could not find a version that satisfies the requirement zipfile (from versions: none)\n",
      "ERROR: No matching distribution found for zipfile\n",
      "\n",
      "[notice] A new release of pip is available: 23.1.2 -> 23.2.1\n",
      "[notice] To update, run: C:\\Users\\lenovo\\AppData\\Local\\Microsoft\\WindowsApps\\PythonSoftwareFoundation.Python.3.11_qbz5n2kfra8p0\\python.exe -m pip install --upgrade pip\n"
     ]
    }
   ],
   "source": [
    "!python3 -m pip install pandas #installing pandas\n",
    "!python3 -m pip install zipfile #installing packafe zipfile to extract zip file from kaggle"
   ]
  },
  {
   "cell_type": "code",
   "execution_count": 23,
   "metadata": {},
   "outputs": [
    {
     "name": "stdout",
     "output_type": "stream",
     "text": [
      "Collecting openpyxl\n",
      "  Downloading openpyxl-3.1.2-py2.py3-none-any.whl (249 kB)\n",
      "                                              0.0/250.0 kB ? eta -:--:--\n",
      "     -                                        10.2/250.0 kB ? eta -:--:--\n",
      "     ------                                41.0/250.0 kB 495.5 kB/s eta 0:00:01\n",
      "     ----------                            71.7/250.0 kB 660.6 kB/s eta 0:00:01\n",
      "     -----------------------                153.6/250.0 kB 1.0 MB/s eta 0:00:01\n",
      "     -------------------------------------  245.8/250.0 kB 1.3 MB/s eta 0:00:01\n",
      "     -------------------------------------- 250.0/250.0 kB 1.1 MB/s eta 0:00:00\n",
      "Collecting et-xmlfile (from openpyxl)\n",
      "  Downloading et_xmlfile-1.1.0-py3-none-any.whl (4.7 kB)\n",
      "Installing collected packages: et-xmlfile, openpyxl\n",
      "Successfully installed et-xmlfile-1.1.0 openpyxl-3.1.2\n"
     ]
    },
    {
     "name": "stderr",
     "output_type": "stream",
     "text": [
      "\n",
      "[notice] A new release of pip is available: 23.1.2 -> 23.2.1\n",
      "[notice] To update, run: C:\\Users\\lenovo\\AppData\\Local\\Microsoft\\WindowsApps\\PythonSoftwareFoundation.Python.3.11_qbz5n2kfra8p0\\python.exe -m pip install --upgrade pip\n"
     ]
    }
   ],
   "source": [
    "!python3 -m pip install openpyxl #package to save final dataframe to an excel"
   ]
  },
  {
   "cell_type": "code",
   "execution_count": 2,
   "metadata": {},
   "outputs": [
    {
     "name": "stderr",
     "output_type": "stream",
     "text": [
      "  WARNING: The script slugify.exe is installed in 'C:\\Users\\lenovo\\AppData\\Local\\Packages\\PythonSoftwareFoundation.Python.3.11_qbz5n2kfra8p0\\LocalCache\\local-packages\\Python311\\Scripts' which is not on PATH.\n",
      "  Consider adding this directory to PATH or, if you prefer to suppress this warning, use --no-warn-script-location.\n",
      "  WARNING: The script normalizer.exe is installed in 'C:\\Users\\lenovo\\AppData\\Local\\Packages\\PythonSoftwareFoundation.Python.3.11_qbz5n2kfra8p0\\LocalCache\\local-packages\\Python311\\Scripts' which is not on PATH.\n",
      "  Consider adding this directory to PATH or, if you prefer to suppress this warning, use --no-warn-script-location.\n",
      "  WARNING: The script tqdm.exe is installed in 'C:\\Users\\lenovo\\AppData\\Local\\Packages\\PythonSoftwareFoundation.Python.3.11_qbz5n2kfra8p0\\LocalCache\\local-packages\\Python311\\Scripts' which is not on PATH.\n",
      "  Consider adding this directory to PATH or, if you prefer to suppress this warning, use --no-warn-script-location.\n",
      "  WARNING: The script kaggle.exe is installed in 'C:\\Users\\lenovo\\AppData\\Local\\Packages\\PythonSoftwareFoundation.Python.3.11_qbz5n2kfra8p0\\LocalCache\\local-packages\\Python311\\Scripts' which is not on PATH.\n",
      "  Consider adding this directory to PATH or, if you prefer to suppress this warning, use --no-warn-script-location.\n",
      "\n",
      "[notice] A new release of pip is available: 23.1.2 -> 23.2.1\n",
      "[notice] To update, run: C:\\Users\\lenovo\\AppData\\Local\\Microsoft\\WindowsApps\\PythonSoftwareFoundation.Python.3.11_qbz5n2kfra8p0\\python.exe -m pip install --upgrade pip\n"
     ]
    },
    {
     "name": "stdout",
     "output_type": "stream",
     "text": [
      "Collecting kaggle\n",
      "  Using cached kaggle-1.5.16.tar.gz (83 kB)\n",
      "  Installing build dependencies: started\n",
      "  Installing build dependencies: finished with status 'done'\n",
      "  Getting requirements to build wheel: started\n",
      "  Getting requirements to build wheel: finished with status 'done'\n",
      "  Preparing metadata (pyproject.toml): started\n",
      "  Preparing metadata (pyproject.toml): finished with status 'done'\n",
      "Collecting six>=1.10 (from kaggle)\n",
      "  Downloading six-1.16.0-py2.py3-none-any.whl (11 kB)\n",
      "Collecting certifi (from kaggle)\n",
      "  Downloading certifi-2023.7.22-py3-none-any.whl (158 kB)\n",
      "     ------------------------------------ 158.3/158.3 kB 861.0 kB/s eta 0:00:00\n",
      "Collecting python-dateutil (from kaggle)\n",
      "  Downloading python_dateutil-2.8.2-py2.py3-none-any.whl (247 kB)\n",
      "     -------------------------------------- 247.7/247.7 kB 1.1 MB/s eta 0:00:00\n",
      "Collecting requests (from kaggle)\n",
      "  Downloading requests-2.31.0-py3-none-any.whl (62 kB)\n",
      "     ---------------------------------------- 62.6/62.6 kB 1.1 MB/s eta 0:00:00\n",
      "Collecting tqdm (from kaggle)\n",
      "  Downloading tqdm-4.65.0-py3-none-any.whl (77 kB)\n",
      "     ---------------------------------------- 77.1/77.1 kB 2.2 MB/s eta 0:00:00\n",
      "Collecting python-slugify (from kaggle)\n",
      "  Using cached python_slugify-8.0.1-py2.py3-none-any.whl (9.7 kB)\n",
      "Collecting urllib3 (from kaggle)\n",
      "  Downloading urllib3-2.0.4-py3-none-any.whl (123 kB)\n",
      "     -------------------------------------- 123.9/123.9 kB 1.2 MB/s eta 0:00:00\n",
      "Collecting bleach (from kaggle)\n",
      "  Downloading bleach-6.0.0-py3-none-any.whl (162 kB)\n",
      "     -------------------------------------- 162.5/162.5 kB 1.2 MB/s eta 0:00:00\n",
      "Collecting webencodings (from bleach->kaggle)\n",
      "  Downloading webencodings-0.5.1-py2.py3-none-any.whl (11 kB)\n",
      "Collecting text-unidecode>=1.3 (from python-slugify->kaggle)\n",
      "  Using cached text_unidecode-1.3-py2.py3-none-any.whl (78 kB)\n",
      "Collecting charset-normalizer<4,>=2 (from requests->kaggle)\n",
      "  Downloading charset_normalizer-3.2.0-cp311-cp311-win_amd64.whl (96 kB)\n",
      "     -------------------------------------- 96.6/96.6 kB 690.5 kB/s eta 0:00:00\n",
      "Collecting idna<4,>=2.5 (from requests->kaggle)\n",
      "  Downloading idna-3.4-py3-none-any.whl (61 kB)\n",
      "     ---------------------------------------- 61.5/61.5 kB 1.7 MB/s eta 0:00:00\n",
      "Collecting colorama (from tqdm->kaggle)\n",
      "  Downloading colorama-0.4.6-py2.py3-none-any.whl (25 kB)\n",
      "Building wheels for collected packages: kaggle\n",
      "  Building wheel for kaggle (pyproject.toml): started\n",
      "  Building wheel for kaggle (pyproject.toml): finished with status 'done'\n",
      "  Created wheel for kaggle: filename=kaggle-1.5.16-py3-none-any.whl size=110693 sha256=97988050a785e138dc0e3ceb604da6bf34deef21b1c64451f82c110cf08be164\n",
      "  Stored in directory: c:\\users\\lenovo\\appdata\\local\\pip\\cache\\wheels\\6a\\2b\\d0\\457dd27de499e9423caf738e743c4a3f82886ee6b19f89d5b7\n",
      "Successfully built kaggle\n",
      "Installing collected packages: webencodings, text-unidecode, urllib3, six, python-slugify, idna, colorama, charset-normalizer, certifi, tqdm, requests, python-dateutil, bleach, kaggle\n",
      "Successfully installed bleach-6.0.0 certifi-2023.7.22 charset-normalizer-3.2.0 colorama-0.4.6 idna-3.4 kaggle-1.5.16 python-dateutil-2.8.2 python-slugify-8.0.1 requests-2.31.0 six-1.16.0 text-unidecode-1.3 tqdm-4.65.0 urllib3-2.0.4 webencodings-0.5.1\n",
      "Collecting kaggle\n",
      "  Using cached kaggle-1.5.16.tar.gz (83 kB)\n",
      "  Installing build dependencies: started\n",
      "  Installing build dependencies: finished with status 'done'\n",
      "  Getting requirements to build wheel: started\n",
      "  Getting requirements to build wheel: finished with status 'done'\n",
      "  Preparing metadata (pyproject.toml): started\n",
      "  Preparing metadata (pyproject.toml): finished with status 'done'\n",
      "Collecting six>=1.10 (from kaggle)\n",
      "  Using cached six-1.16.0-py2.py3-none-any.whl (11 kB)\n",
      "Collecting certifi (from kaggle)\n",
      "  Using cached certifi-2023.7.22-py3-none-any.whl (158 kB)\n",
      "Collecting python-dateutil (from kaggle)\n",
      "  Using cached python_dateutil-2.8.2-py2.py3-none-any.whl (247 kB)\n",
      "Collecting requests (from kaggle)\n",
      "  Using cached requests-2.31.0-py3-none-any.whl (62 kB)\n",
      "Collecting tqdm (from kaggle)\n",
      "  Using cached tqdm-4.65.0-py3-none-any.whl (77 kB)\n",
      "Collecting python-slugify (from kaggle)\n"
     ]
    },
    {
     "name": "stderr",
     "output_type": "stream",
     "text": [
      "  WARNING: The script slugify.exe is installed in 'C:\\Users\\lenovo\\AppData\\Local\\Packages\\PythonSoftwareFoundation.Python.3.11_qbz5n2kfra8p0\\LocalCache\\local-packages\\Python311\\Scripts' which is not on PATH.\n",
      "  Consider adding this directory to PATH or, if you prefer to suppress this warning, use --no-warn-script-location.\n",
      "  WARNING: The script normalizer.exe is installed in 'C:\\Users\\lenovo\\AppData\\Local\\Packages\\PythonSoftwareFoundation.Python.3.11_qbz5n2kfra8p0\\LocalCache\\local-packages\\Python311\\Scripts' which is not on PATH.\n",
      "  Consider adding this directory to PATH or, if you prefer to suppress this warning, use --no-warn-script-location.\n",
      "  WARNING: The script tqdm.exe is installed in 'C:\\Users\\lenovo\\AppData\\Local\\Packages\\PythonSoftwareFoundation.Python.3.11_qbz5n2kfra8p0\\LocalCache\\local-packages\\Python311\\Scripts' which is not on PATH.\n",
      "  Consider adding this directory to PATH or, if you prefer to suppress this warning, use --no-warn-script-location.\n",
      "  WARNING: The script kaggle.exe is installed in 'C:\\Users\\lenovo\\AppData\\Local\\Packages\\PythonSoftwareFoundation.Python.3.11_qbz5n2kfra8p0\\LocalCache\\local-packages\\Python311\\Scripts' which is not on PATH.\n",
      "  Consider adding this directory to PATH or, if you prefer to suppress this warning, use --no-warn-script-location.\n",
      "\n",
      "[notice] A new release of pip is available: 23.1.2 -> 23.2.1\n",
      "[notice] To update, run: C:\\Users\\lenovo\\AppData\\Local\\Microsoft\\WindowsApps\\PythonSoftwareFoundation.Python.3.11_qbz5n2kfra8p0\\python.exe -m pip install --upgrade pip\n"
     ]
    },
    {
     "name": "stdout",
     "output_type": "stream",
     "text": [
      "  Using cached python_slugify-8.0.1-py2.py3-none-any.whl (9.7 kB)\n",
      "Collecting urllib3 (from kaggle)\n",
      "  Using cached urllib3-2.0.4-py3-none-any.whl (123 kB)\n",
      "Collecting bleach (from kaggle)\n",
      "  Using cached bleach-6.0.0-py3-none-any.whl (162 kB)\n",
      "Collecting webencodings (from bleach->kaggle)\n",
      "  Using cached webencodings-0.5.1-py2.py3-none-any.whl (11 kB)\n",
      "Collecting text-unidecode>=1.3 (from python-slugify->kaggle)\n",
      "  Using cached text_unidecode-1.3-py2.py3-none-any.whl (78 kB)\n",
      "Collecting charset-normalizer<4,>=2 (from requests->kaggle)\n",
      "  Using cached charset_normalizer-3.2.0-cp311-cp311-win_amd64.whl (96 kB)\n",
      "Collecting idna<4,>=2.5 (from requests->kaggle)\n",
      "  Using cached idna-3.4-py3-none-any.whl (61 kB)\n",
      "Collecting colorama (from tqdm->kaggle)\n",
      "  Using cached colorama-0.4.6-py2.py3-none-any.whl (25 kB)\n",
      "Building wheels for collected packages: kaggle\n",
      "  Building wheel for kaggle (pyproject.toml): started\n",
      "  Building wheel for kaggle (pyproject.toml): finished with status 'done'\n",
      "  Created wheel for kaggle: filename=kaggle-1.5.16-py3-none-any.whl size=110693 sha256=f96a4077f590a4925d52fce39839b86b92f8deddafcf23fb9977d7cca0973597\n",
      "  Stored in directory: c:\\users\\lenovo\\appdata\\local\\pip\\cache\\wheels\\6a\\2b\\d0\\457dd27de499e9423caf738e743c4a3f82886ee6b19f89d5b7\n",
      "Successfully built kaggle\n",
      "Installing collected packages: webencodings, text-unidecode, urllib3, six, python-slugify, idna, colorama, charset-normalizer, certifi, tqdm, requests, python-dateutil, bleach, kaggle\n",
      "Successfully installed bleach-6.0.0 certifi-2023.7.22 charset-normalizer-3.2.0 colorama-0.4.6 idna-3.4 kaggle-1.5.16 python-dateutil-2.8.2 python-slugify-8.0.1 requests-2.31.0 six-1.16.0 text-unidecode-1.3 tqdm-4.65.0 urllib3-2.0.4 webencodings-0.5.1\n"
     ]
    }
   ],
   "source": [
    "!python3 -m pip install kaggle#installing kaggle API"
   ]
  },
  {
   "cell_type": "code",
   "execution_count": 7,
   "metadata": {},
   "outputs": [],
   "source": [
    "import pandas as pd\n",
    "import zipfile #TO EXTRACT FILES FROM KAGGLE\n",
    "import kaggle #TO DOWNLOAD DATASET FROM KAGGLE"
   ]
  },
  {
   "cell_type": "code",
   "execution_count": 24,
   "metadata": {},
   "outputs": [],
   "source": [
    "import openpyxl #TO EXPORT FINAL DATASET TO AN EXCEL FILE"
   ]
  },
  {
   "cell_type": "code",
   "execution_count": 4,
   "metadata": {},
   "outputs": [
    {
     "name": "stdout",
     "output_type": "stream",
     "text": [
      "london-bike-sharing-dataset.zip: Skipping, found more recently modified local copy (use --force to force download)\n"
     ]
    }
   ],
   "source": [
    "!kaggle datasets download -d hmavrodiev/london-bike-sharing-dataset\n"
   ]
  },
  {
   "cell_type": "code",
   "execution_count": 8,
   "metadata": {},
   "outputs": [],
   "source": [
    "zipfile_name = 'london-bike-sharing-dataset.zip'\n",
    "with zipfile.ZipFile(zipfile_name,'r') as file:\n",
    "    file.extractall() #EXTRACT ZIP FILE OF DATASET"
   ]
  },
  {
   "cell_type": "code",
   "execution_count": 9,
   "metadata": {},
   "outputs": [],
   "source": [
    "bikes = pd.read_csv('london_merged.csv') #READ CSV AS PANDAS DATAFRAME"
   ]
  },
  {
   "cell_type": "code",
   "execution_count": 10,
   "metadata": {},
   "outputs": [
    {
     "name": "stdout",
     "output_type": "stream",
     "text": [
      "<class 'pandas.core.frame.DataFrame'>\n",
      "RangeIndex: 17414 entries, 0 to 17413\n",
      "Data columns (total 10 columns):\n",
      " #   Column        Non-Null Count  Dtype  \n",
      "---  ------        --------------  -----  \n",
      " 0   timestamp     17414 non-null  object \n",
      " 1   cnt           17414 non-null  int64  \n",
      " 2   t1            17414 non-null  float64\n",
      " 3   t2            17414 non-null  float64\n",
      " 4   hum           17414 non-null  float64\n",
      " 5   wind_speed    17414 non-null  float64\n",
      " 6   weather_code  17414 non-null  float64\n",
      " 7   is_holiday    17414 non-null  float64\n",
      " 8   is_weekend    17414 non-null  float64\n",
      " 9   season        17414 non-null  float64\n",
      "dtypes: float64(8), int64(1), object(1)\n",
      "memory usage: 1.3+ MB\n"
     ]
    }
   ],
   "source": [
    "bikes.info()"
   ]
  },
  {
   "cell_type": "code",
   "execution_count": 11,
   "metadata": {},
   "outputs": [
    {
     "data": {
      "text/plain": [
       "(17414, 10)"
      ]
     },
     "execution_count": 11,
     "metadata": {},
     "output_type": "execute_result"
    }
   ],
   "source": [
    "bikes.shape"
   ]
  },
  {
   "cell_type": "code",
   "execution_count": 13,
   "metadata": {},
   "outputs": [
    {
     "data": {
      "text/plain": [
       "weather_code\n",
       "1.0     6150\n",
       "2.0     4034\n",
       "3.0     3551\n",
       "7.0     2141\n",
       "4.0     1464\n",
       "26.0      60\n",
       "10.0      14\n",
       "Name: count, dtype: int64"
      ]
     },
     "execution_count": 13,
     "metadata": {},
     "output_type": "execute_result"
    }
   ],
   "source": [
    "bikes.weather_code.value_counts() #number of unique values in weather_code column"
   ]
  },
  {
   "cell_type": "code",
   "execution_count": 15,
   "metadata": {},
   "outputs": [
    {
     "data": {
      "text/plain": [
       "season\n",
       "0.0    4394\n",
       "1.0    4387\n",
       "3.0    4330\n",
       "2.0    4303\n",
       "Name: count, dtype: int64"
      ]
     },
     "execution_count": 15,
     "metadata": {},
     "output_type": "execute_result"
    }
   ],
   "source": [
    "bikes.season.value_counts() #number of unique values in season column"
   ]
  },
  {
   "cell_type": "code",
   "execution_count": 16,
   "metadata": {},
   "outputs": [],
   "source": [
    "new_cols_dict = { 'timestamp':'time',\n",
    "                 'cnt':'count',\n",
    "                 't1':'temp_real_C',\n",
    "                 't2':'temp_feels_like_C',\n",
    "                 'hum':'humidity_percent',\n",
    "                 'wind_speed':'wind_speed_kph',\n",
    "                 'weather_code':'weather',\n",
    "                 'is_holiday':'is_holiday',\n",
    "                 'is_weekend':'is_weekend',\n",
    "                 'season':'season'}\n",
    "\n",
    "bikes.rename(new_cols_dict,axis=1,inplace = True)  #RENAMING THE COLUMNS OF THE DATAFRAME"
   ]
  },
  {
   "cell_type": "code",
   "execution_count": 18,
   "metadata": {},
   "outputs": [],
   "source": [
    "bikes.humidity_percent = bikes.humidity_percent / 100"
   ]
  },
  {
   "cell_type": "code",
   "execution_count": 19,
   "metadata": {},
   "outputs": [],
   "source": [
    "season_dict = {\n",
    "    '0.0':'spring',\n",
    "    '1.0':'summer',\n",
    "    '2.0':'autumn',\n",
    "    '3.0':'winter'\n",
    "}\n",
    "\n",
    "# creating a weather dictionary so that we can map the integers to the actual written values\n",
    "weather_dict = {\n",
    "    '1.0':'Clear',\n",
    "    '2.0':'Scattered clouds',\n",
    "    '3.0':'Broken clouds',\n",
    "    '4.0':'Cloudy',\n",
    "    '7.0':'Rain',\n",
    "    '10.0':'Rain with thunderstorm',\n",
    "    '26.0':'Snowfall'\n",
    "}\n",
    "\n",
    "bikes.season = bikes.season.astype('str') #CHANGING SEASON COLUMN DATATYPE TO STRING\n",
    "bikes.season = bikes.season.map(season_dict)\n",
    "\n",
    "bikes.weather = bikes.weather.astype('str') #CHANGING WEATHER COLUMN DATATYPE TO STRING\n",
    "bikes.weather= bikes.weather.map(weather_dict)\n",
    "\n",
    "\n",
    "\n"
   ]
  },
  {
   "cell_type": "code",
   "execution_count": 21,
   "metadata": {},
   "outputs": [
    {
     "data": {
      "text/html": [
       "<div>\n",
       "<style scoped>\n",
       "    .dataframe tbody tr th:only-of-type {\n",
       "        vertical-align: middle;\n",
       "    }\n",
       "\n",
       "    .dataframe tbody tr th {\n",
       "        vertical-align: top;\n",
       "    }\n",
       "\n",
       "    .dataframe thead th {\n",
       "        text-align: right;\n",
       "    }\n",
       "</style>\n",
       "<table border=\"1\" class=\"dataframe\">\n",
       "  <thead>\n",
       "    <tr style=\"text-align: right;\">\n",
       "      <th></th>\n",
       "      <th>time</th>\n",
       "      <th>count</th>\n",
       "      <th>temp_real_C</th>\n",
       "      <th>temp_feels_like_C</th>\n",
       "      <th>humidity_percent</th>\n",
       "      <th>wind_speed_kph</th>\n",
       "      <th>weather</th>\n",
       "      <th>is_holiday</th>\n",
       "      <th>is_weekend</th>\n",
       "      <th>season</th>\n",
       "    </tr>\n",
       "  </thead>\n",
       "  <tbody>\n",
       "    <tr>\n",
       "      <th>0</th>\n",
       "      <td>2015-01-04 00:00:00</td>\n",
       "      <td>182</td>\n",
       "      <td>3.0</td>\n",
       "      <td>2.0</td>\n",
       "      <td>0.930</td>\n",
       "      <td>6.0</td>\n",
       "      <td>Broken clouds</td>\n",
       "      <td>0.0</td>\n",
       "      <td>1.0</td>\n",
       "      <td>winter</td>\n",
       "    </tr>\n",
       "    <tr>\n",
       "      <th>1</th>\n",
       "      <td>2015-01-04 01:00:00</td>\n",
       "      <td>138</td>\n",
       "      <td>3.0</td>\n",
       "      <td>2.5</td>\n",
       "      <td>0.930</td>\n",
       "      <td>5.0</td>\n",
       "      <td>Clear</td>\n",
       "      <td>0.0</td>\n",
       "      <td>1.0</td>\n",
       "      <td>winter</td>\n",
       "    </tr>\n",
       "    <tr>\n",
       "      <th>2</th>\n",
       "      <td>2015-01-04 02:00:00</td>\n",
       "      <td>134</td>\n",
       "      <td>2.5</td>\n",
       "      <td>2.5</td>\n",
       "      <td>0.965</td>\n",
       "      <td>0.0</td>\n",
       "      <td>Clear</td>\n",
       "      <td>0.0</td>\n",
       "      <td>1.0</td>\n",
       "      <td>winter</td>\n",
       "    </tr>\n",
       "    <tr>\n",
       "      <th>3</th>\n",
       "      <td>2015-01-04 03:00:00</td>\n",
       "      <td>72</td>\n",
       "      <td>2.0</td>\n",
       "      <td>2.0</td>\n",
       "      <td>1.000</td>\n",
       "      <td>0.0</td>\n",
       "      <td>Clear</td>\n",
       "      <td>0.0</td>\n",
       "      <td>1.0</td>\n",
       "      <td>winter</td>\n",
       "    </tr>\n",
       "    <tr>\n",
       "      <th>4</th>\n",
       "      <td>2015-01-04 04:00:00</td>\n",
       "      <td>47</td>\n",
       "      <td>2.0</td>\n",
       "      <td>0.0</td>\n",
       "      <td>0.930</td>\n",
       "      <td>6.5</td>\n",
       "      <td>Clear</td>\n",
       "      <td>0.0</td>\n",
       "      <td>1.0</td>\n",
       "      <td>winter</td>\n",
       "    </tr>\n",
       "  </tbody>\n",
       "</table>\n",
       "</div>"
      ],
      "text/plain": [
       "                  time  count  temp_real_C  temp_feels_like_C  \\\n",
       "0  2015-01-04 00:00:00    182          3.0                2.0   \n",
       "1  2015-01-04 01:00:00    138          3.0                2.5   \n",
       "2  2015-01-04 02:00:00    134          2.5                2.5   \n",
       "3  2015-01-04 03:00:00     72          2.0                2.0   \n",
       "4  2015-01-04 04:00:00     47          2.0                0.0   \n",
       "\n",
       "   humidity_percent  wind_speed_kph        weather  is_holiday  is_weekend  \\\n",
       "0             0.930             6.0  Broken clouds         0.0         1.0   \n",
       "1             0.930             5.0          Clear         0.0         1.0   \n",
       "2             0.965             0.0          Clear         0.0         1.0   \n",
       "3             1.000             0.0          Clear         0.0         1.0   \n",
       "4             0.930             6.5          Clear         0.0         1.0   \n",
       "\n",
       "   season  \n",
       "0  winter  \n",
       "1  winter  \n",
       "2  winter  \n",
       "3  winter  \n",
       "4  winter  "
      ]
     },
     "execution_count": 21,
     "metadata": {},
     "output_type": "execute_result"
    }
   ],
   "source": [
    "bikes.head()"
   ]
  },
  {
   "cell_type": "code",
   "execution_count": 25,
   "metadata": {},
   "outputs": [],
   "source": [
    "bikes.to_excel('london_bikes_final.xlsx', sheet_name='Data')"
   ]
  },
  {
   "cell_type": "code",
   "execution_count": null,
   "metadata": {},
   "outputs": [],
   "source": []
  }
 ],
 "metadata": {
  "kernelspec": {
   "display_name": "base",
   "language": "python",
   "name": "python3"
  },
  "language_info": {
   "codemirror_mode": {
    "name": "ipython",
    "version": 3
   },
   "file_extension": ".py",
   "mimetype": "text/x-python",
   "name": "python",
   "nbconvert_exporter": "python",
   "pygments_lexer": "ipython3",
   "version": "3.11.4"
  },
  "orig_nbformat": 4,
  "vscode": {
   "interpreter": {
    "hash": "8724f062e069b31a4e320b6eefcb9afc886b3236c8b23a04048c9e6d0af9929a"
   }
  }
 },
 "nbformat": 4,
 "nbformat_minor": 2
}
